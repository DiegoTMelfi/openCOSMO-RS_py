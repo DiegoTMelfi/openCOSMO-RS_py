{
 "cells": [
  {
   "cell_type": "markdown",
   "id": "cc23a887-cb48-4d0d-86aa-ef7f0216980d",
   "metadata": {},
   "source": [
    "Install the package via \"pip install opencosmorspy\""
   ]
  },
  {
   "cell_type": "markdown",
   "id": "d0cddcb0-6b81-43e5-bd53-4f6ef10ba7fa",
   "metadata": {},
   "source": [
    "Import the module"
   ]
  },
  {
   "cell_type": "code",
   "execution_count": 1,
   "id": "ce9447a8-1c26-4494-ba8a-15188cd2a651",
   "metadata": {},
   "outputs": [],
   "source": [
    "import numpy as np\n",
    "\n",
    "from opencosmorspy import Parameterization, COSMORS"
   ]
  },
  {
   "cell_type": "markdown",
   "id": "6a4d5832-7b17-44cd-88c4-ae118093ecf1",
   "metadata": {},
   "source": [
    "Choose a default parameterization (default_turbomole or default_orca). You can either instanciate a parameterization object and pass it to the COSMORS constructor, or let the COSMORS class take over the instanciation."
   ]
  },
  {
   "cell_type": "code",
   "execution_count": 2,
   "id": "c116eca3-78eb-42f0-984d-651b4e92dd24",
   "metadata": {},
   "outputs": [],
   "source": [
    "crs = COSMORS(par='default_orca')"
   ]
  },
  {
   "cell_type": "markdown",
   "id": "28b89a17-8eec-4f0f-88fc-9c21f79ab8f0",
   "metadata": {},
   "source": [
    "To modify parameters, currently indivual properties of the parameters class are overwritten. "
   ]
  },
  {
   "cell_type": "code",
   "execution_count": 3,
   "id": "0a0aea90-2926-4c0c-af39-5518405eefa7",
   "metadata": {},
   "outputs": [],
   "source": [
    "crs.par.calculate_contact_statistics_molecule_properties = True"
   ]
  },
  {
   "cell_type": "code",
   "execution_count": 4,
   "id": "7db6146e-bfbe-4012-a9b6-7dc8a53633ed",
   "metadata": {},
   "outputs": [
    {
     "name": "stdout",
     "output_type": "stream",
     "text": [
      "qc_program             : orca\n",
      "descriptors            : sigma, sigma_orth, elmnt_nr, group, mol_charge \n",
      "a_eff                  : 6.226\n",
      "r_av                   : 0.500\n",
      "sigma_step             : 0.001\n",
      "sigma_orth_step        : 0.001\n",
      "mf_use_sigma_orth      : True\n",
      "mf_alpha               :  7.579075e+06\n",
      "mf_r_av_corr           : 1.000\n",
      "mf_f_corr              : 2.400\n",
      "hb_term                : default\n",
      "hb_c                   :  2.748875e+07\n",
      "hb_c_T                 : 1.500\n",
      "hb_sigma_thresh        : 0.007686\n",
      "hb_don_elmnt_nr_arr    : [  1 100 101 102 103 104 105 106 107 108 109 110 111 112 113 114 115 116\n",
      " 117 118 119 120 121 122 123 124 125 126 127 128 129 130 131 132 133 134\n",
      " 135 136 137 138 139 140 141 142 143 144 145 146 147 148 149 150]\n",
      "hb_acc_elmnt_nr_arr    : [ 6  7  8  9 15 16 17 35 53]\n",
      "hb_pref_arr            : [1. 1. 1. 1. 1. 1. 1. 1. 1. 1. 1. 1. 1. 1. 1. 1. 1. 1. 1. 1. 1. 1. 1. 1.\n",
      " 1. 1. 1. 1. 1. 1. 1. 1. 1. 1. 1. 1. 1. 1. 1. 1. 1. 1. 1. 1. 1. 1. 1. 1.\n",
      " 1. 1. 1. 1. 1. 1. 1. 1. 1. 1. 1. 1. 1. 1. 1. 1. 1. 1. 1. 1. 1. 1. 1. 1.\n",
      " 1. 1. 1. 1. 1. 1. 1. 1. 1. 1. 1. 1. 1. 1. 1. 1. 1. 1. 1. 1. 1. 1. 1. 1.\n",
      " 1. 1. 1. 1. 1. 1. 1. 1. 1. 1. 1. 1. 1. 1. 1. 1. 1. 1. 1. 1. 1. 1. 1. 1.\n",
      " 1. 1. 1. 1. 1. 1. 1. 1. 1. 1. 1. 1. 1. 1. 1. 1. 1. 1. 1. 1. 1. 1. 1. 1.\n",
      " 1. 1. 1. 1. 1. 1. 1. 1. 1. 1. 1. 1. 1. 1. 1. 1. 1. 1. 1. 1. 1. 1. 1. 1.\n",
      " 1. 1. 1. 1. 1. 1. 1. 1. 1. 1. 1. 1. 1. 1. 1. 1. 1. 1. 1. 1. 1. 1. 1. 1.\n",
      " 1. 1. 1. 1. 1. 1. 1. 1. 1.]\n",
      "comb_term              : staverman_guggenheim\n",
      "comb_sg_z_coord        : 10.000000\n",
      "comb_sg_a_std          : 47.999000\n",
      "calculate_contact_statistics_molecule_properties : True\n",
      "cosmospace_max_iter : 1000\n",
      "cosmospace_conv_thresh : 1.000000e-06\n",
      "\n"
     ]
    }
   ],
   "source": [
    "print(crs.par)"
   ]
  },
  {
   "cell_type": "markdown",
   "id": "8ed443fd-972a-4dec-a02e-53ba9d8b17df",
   "metadata": {},
   "source": [
    "Add a molecule:"
   ]
  },
  {
   "cell_type": "code",
   "execution_count": 5,
   "id": "f922e271-1fc5-4ba5-8ca8-2b9c87068d55",
   "metadata": {},
   "outputs": [],
   "source": [
    "mol_structure_list_0 = ['./../tests/COSMO_ORCA/C2H2Cl4_001_1112tetrachloroethane/COSMO_TZVPD/C2H2Cl4_001_1112tetrachloroethane_CnfS1_c000.orcacosmo']\n",
    "crs.add_molecule(mol_structure_list_0)"
   ]
  },
  {
   "cell_type": "markdown",
   "id": "559c5ebb-66f9-46fb-9c75-16d60faea5cf",
   "metadata": {},
   "source": [
    "You can clear the list of molecules at any stage:"
   ]
  },
  {
   "cell_type": "code",
   "execution_count": 6,
   "id": "cde40168-1c38-48e6-8aa1-9cedc371885c",
   "metadata": {},
   "outputs": [],
   "source": [
    "crs.clear_molecules()"
   ]
  },
  {
   "cell_type": "markdown",
   "id": "3cc5a342-8343-4bf1-9c17-d37590e48ce7",
   "metadata": {},
   "source": [
    "But now we do want to add two molecules. At present, only one molecular structure per molecule is supported."
   ]
  },
  {
   "cell_type": "code",
   "execution_count": 7,
   "id": "e2905167-23ff-441e-aab4-d707117c15f0",
   "metadata": {},
   "outputs": [],
   "source": [
    "mol_structure_list_0 = ['./../tests/COSMO_ORCA/C2H2Cl4_001_1112tetrachloroethane/COSMO_TZVPD/C2H2Cl4_001_1112tetrachloroethane_CnfS1_c000.orcacosmo']\n",
    "crs.add_molecule(mol_structure_list_0)\n",
    "crs.add_molecule(['./../tests/COSMO_ORCA/H2O_001/COSMO_TZVPD/H2O_c000.orcacosmo'])"
   ]
  },
  {
   "cell_type": "markdown",
   "id": "ae654d3e-af1c-4b62-9d93-135f7f89cea8",
   "metadata": {},
   "source": [
    "Let us add two jobs:"
   ]
  },
  {
   "cell_type": "code",
   "execution_count": 8,
   "id": "fb5f7d85-3817-48ed-8be0-e2ba713b0913",
   "metadata": {},
   "outputs": [],
   "source": [
    "x = np.array([0.0, 1.0])\n",
    "T = 298.15\n",
    "crs.add_job(x, T, refst='pure_component')"
   ]
  },
  {
   "cell_type": "code",
   "execution_count": 9,
   "id": "81524601-2869-45fd-89d4-f8f6fa1cb5bb",
   "metadata": {},
   "outputs": [],
   "source": [
    "x = np.array([0.5, .5])\n",
    "T = 298.15\n",
    "crs.add_job(x, T, refst='pure_component')"
   ]
  },
  {
   "cell_type": "code",
   "execution_count": 10,
   "id": "b4af8ebc-3333-4d10-a10e-742475fd4568",
   "metadata": {},
   "outputs": [],
   "source": [
    "results = crs.calculate()"
   ]
  },
  {
   "cell_type": "code",
   "execution_count": 11,
   "id": "f001bcfe-8d0e-4057-b479-7874de112b33",
   "metadata": {},
   "outputs": [
    {
     "name": "stdout",
     "output_type": "stream",
     "text": [
      "Total logarithmic activity coefficient:  [[9.24958484 0.        ]\n",
      " [1.03917659 1.58421651]]\n",
      "Residual logarithmic activity coefficient:  [[10.02243494  0.        ]\n",
      " [ 1.14511374  1.78316791]]\n",
      "Combinatorial logarithmic activity coefficient: [[-0.7728501   0.        ]\n",
      " [-0.10593715 -0.1989514 ]]\n"
     ]
    }
   ],
   "source": [
    "print('Total logarithmic activity coefficient: ', results['tot']['lng'])\n",
    "print('Residual logarithmic activity coefficient: ', results['enth']['lng'])\n",
    "print('Combinatorial logarithmic activity coefficient:', results['comb']['lng'])"
   ]
  },
  {
   "cell_type": "markdown",
   "id": "1e84f3c4-5f2e-48b4-8337-291a0e824239",
   "metadata": {},
   "source": [
    "To view partial molar properties and average interaction energies:"
   ]
  },
  {
   "cell_type": "code",
   "execution_count": 12,
   "id": "0fbe5778-4cdd-4d28-a3fc-1c32d174521c",
   "metadata": {},
   "outputs": [
    {
     "name": "stdout",
     "output_type": "stream",
     "text": [
      "Partial molar           - pm_A_int: \n",
      " [[7640.62763607    0.        ]\n",
      " [1308.08119381 1237.37604317]] \n",
      "\n",
      "Partial molar           - pm_E_int: \n",
      " [[11771.91298266     0.        ]\n",
      " [ 2361.76930712  1962.96861731]] \n",
      "\n",
      "Partial molar           - pm_E_hb: \n",
      " [[6885.47557766    0.        ]\n",
      " [1756.14685552 1209.3209569 ]] \n",
      "\n",
      "Partial molar           - pm_E_mf: \n",
      " [[4886.437405      0.        ]\n",
      " [ 605.6224516   753.64766041]] \n",
      "\n",
      "Average interaction mol - aim_A_int: \n",
      " [[3091.9226888     0.        ]\n",
      " [ 137.65463075 2407.80101377]] \n",
      "\n"
     ]
    }
   ],
   "source": [
    "print('Partial molar           - pm_A_int: \\n', results['enth']['pm_A_int'], '\\n')\n",
    "print('Partial molar           - pm_E_int: \\n', results['enth']['pm_E_int'], '\\n')\n",
    "print('Partial molar           - pm_E_hb: \\n', results['enth']['pm_E_hb'], '\\n')\n",
    "print('Partial molar           - pm_E_mf: \\n', results['enth']['pm_E_mf'], '\\n')\n",
    "print('Average interaction mol - aim_A_int: \\n', results['enth']['aim_A_int'], '\\n')"
   ]
  },
  {
   "cell_type": "markdown",
   "id": "8066b3d7-972e-4d52-82ab-4b7ea3336285",
   "metadata": {},
   "source": [
    "You may also use different reference states for the molecules. To use a fixed concentration referene mixture:"
   ]
  },
  {
   "cell_type": "code",
   "execution_count": 13,
   "id": "3213da72-2e79-48ee-a507-791b0af9cc8b",
   "metadata": {},
   "outputs": [
    {
     "name": "stdout",
     "output_type": "stream",
     "text": [
      "Total activity coefficient: \n",
      " [[ 0.          0.        ]\n",
      " [-8.21040825  1.58421651]] \n",
      "\n"
     ]
    }
   ],
   "source": [
    "crs.clear_jobs()\n",
    "\n",
    "x = np.array([0.0, 1.0])\n",
    "T = 298.15\n",
    "crs.add_job(x, T, refst='reference_mixture', x_refst=np.array([0, 1.]))\n",
    "\n",
    "x = np.array([0.5, 0.5])\n",
    "T = 298.15\n",
    "crs.add_job(x, T, refst='reference_mixture', x_refst=np.array([0, 1.]))\n",
    "\n",
    "results = crs.calculate()\n",
    "\n",
    "print('Total activity coefficient: \\n', results['tot']['lng'], '\\n')"
   ]
  },
  {
   "cell_type": "markdown",
   "id": "fe340db9-2b05-4de8-8919-a273abbe41b6",
   "metadata": {},
   "source": [
    "To use the COSMO reference state directly:"
   ]
  },
  {
   "cell_type": "code",
   "execution_count": 14,
   "id": "a35cd96e-6130-49e9-8e24-fe7f526dc68d",
   "metadata": {},
   "outputs": [],
   "source": [
    "crs.clear_jobs()\n",
    "x = np.array([0.5, 0.5])\n",
    "T = 298.15\n",
    "crs.add_job(x, T, refst='cosmo', x_refst=np.array([0, 1.]))\n",
    "results = crs.calculate()\n",
    "\n",
    "crs.clear_jobs()\n",
    "x = np.array([0.0, 1.0])\n",
    "T = 298.15\n",
    "crs.add_job(x, T, refst='cosmo', x_refst=np.array([0, 1.]))\n",
    "results_ref = crs.calculate()"
   ]
  },
  {
   "cell_type": "code",
   "execution_count": 15,
   "id": "2bf9ba7c-e112-4988-a20d-902dd541fc48",
   "metadata": {},
   "outputs": [
    {
     "name": "stdout",
     "output_type": "stream",
     "text": [
      "Total activity coefficient: \n",
      " [[-8.21040825  1.58421651]] \n",
      "\n"
     ]
    }
   ],
   "source": [
    "print('Total activity coefficient: \\n', results['tot']['lng']-results_ref['tot']['lng'], '\\n')"
   ]
  }
 ],
 "metadata": {
  "kernelspec": {
   "display_name": "Python 3 (ipykernel)",
   "language": "python",
   "name": "python3"
  },
  "language_info": {
   "codemirror_mode": {
    "name": "ipython",
    "version": 3
   },
   "file_extension": ".py",
   "mimetype": "text/x-python",
   "name": "python",
   "nbconvert_exporter": "python",
   "pygments_lexer": "ipython3",
   "version": "3.9.10"
  }
 },
 "nbformat": 4,
 "nbformat_minor": 5
}
