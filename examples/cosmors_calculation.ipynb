{
 "cells": [
  {
   "cell_type": "markdown",
   "id": "cc23a887-cb48-4d0d-86aa-ef7f0216980d",
   "metadata": {},
   "source": [
    "Install the package via \"pip install git+https://github.com/TUHH-TVT/openCOSMO-RS_py\""
   ]
  },
  {
   "cell_type": "markdown",
   "id": "d0cddcb0-6b81-43e5-bd53-4f6ef10ba7fa",
   "metadata": {},
   "source": [
    "Import the module"
   ]
  },
  {
   "cell_type": "code",
   "execution_count": 1,
   "id": "ce9447a8-1c26-4494-ba8a-15188cd2a651",
   "metadata": {},
   "outputs": [],
   "source": [
    "import numpy as np\n",
    "\n",
    "from opencosmorspy import COSMORS"
   ]
  },
  {
   "cell_type": "markdown",
   "id": "6a4d5832-7b17-44cd-88c4-ae118093ecf1",
   "metadata": {},
   "source": [
    "Choose a parameterization (default_turbomole or default_orca). You can either instanciate a parameterization object and pass it to the COSMORS constructor, or let the COSMORS class take over the instanciation. To use the newest parameterization please check last exmaple."
   ]
  },
  {
   "cell_type": "code",
   "execution_count": 2,
   "id": "c116eca3-78eb-42f0-984d-651b4e92dd24",
   "metadata": {},
   "outputs": [],
   "source": [
    "crs = COSMORS(par='default_orca')"
   ]
  },
  {
   "cell_type": "markdown",
   "id": "28b89a17-8eec-4f0f-88fc-9c21f79ab8f0",
   "metadata": {},
   "source": [
    "To modify parameters, currently indivual properties of the parameters class are overwritten. "
   ]
  },
  {
   "cell_type": "code",
   "execution_count": 4,
   "id": "0a0aea90-2926-4c0c-af39-5518405eefa7",
   "metadata": {},
   "outputs": [],
   "source": [
    "crs.par.calculate_contact_statistics_molecule_properties = True"
   ]
  },
  {
   "cell_type": "code",
   "execution_count": 5,
   "id": "7db6146e-bfbe-4012-a9b6-7dc8a53633ed",
   "metadata": {},
   "outputs": [
    {
     "name": "stdout",
     "output_type": "stream",
     "text": [
      "default_orca:\n",
      "                                      qc_program : orca\n",
      "                                  descriptor_lst : ['sigma', 'sigma_orth', 'elmnt_nr', 'group', 'mol_charge']\n",
      "                                           a_eff : 6.226\n",
      "                                            r_av : 0.5\n",
      "                                       sigma_min : -0.15\n",
      "                                       sigma_max : 0.15\n",
      "                                      sigma_step : 0.001\n",
      "                                      sigma_grid : [-1.50000000e-01 -1.49000000e-01 -1.48000000e-01 -1.47000000e-01\n",
      " -1.46000000e-01 -1.45000000e-01 -1.44000000e-01 -1.43000000e-01\n",
      " -1.42000000e-01 -1.41000000e-01 -1.40000000e-01 -1.39000000e-01\n",
      " -1.38000000e-01 -1.37000000e-01 -1.36000000e-01 -1.35000000e-01\n",
      " -1.34000000e-01 -1.33000000e-01 -1.32000000e-01 -1.31000000e-01\n",
      " -1.30000000e-01 -1.29000000e-01 -1.28000000e-01 -1.27000000e-01\n",
      " -1.26000000e-01 -1.25000000e-01 -1.24000000e-01 -1.23000000e-01\n",
      " -1.22000000e-01 -1.21000000e-01 -1.20000000e-01 -1.19000000e-01\n",
      " -1.18000000e-01 -1.17000000e-01 -1.16000000e-01 -1.15000000e-01\n",
      " -1.14000000e-01 -1.13000000e-01 -1.12000000e-01 -1.11000000e-01\n",
      " -1.10000000e-01 -1.09000000e-01 -1.08000000e-01 -1.07000000e-01\n",
      " -1.06000000e-01 -1.05000000e-01 -1.04000000e-01 -1.03000000e-01\n",
      " -1.02000000e-01 -1.01000000e-01 -1.00000000e-01 -9.90000000e-02\n",
      " -9.80000000e-02 -9.70000000e-02 -9.60000000e-02 -9.50000000e-02\n",
      " -9.40000000e-02 -9.30000000e-02 -9.20000000e-02 -9.10000000e-02\n",
      " -9.00000000e-02 -8.90000000e-02 -8.80000000e-02 -8.70000000e-02\n",
      " -8.60000000e-02 -8.50000000e-02 -8.40000000e-02 -8.30000000e-02\n",
      " -8.20000000e-02 -8.10000000e-02 -8.00000000e-02 -7.90000000e-02\n",
      " -7.80000000e-02 -7.70000000e-02 -7.60000000e-02 -7.50000000e-02\n",
      " -7.40000000e-02 -7.30000000e-02 -7.20000000e-02 -7.10000000e-02\n",
      " -7.00000000e-02 -6.90000000e-02 -6.80000000e-02 -6.70000000e-02\n",
      " -6.60000000e-02 -6.50000000e-02 -6.40000000e-02 -6.30000000e-02\n",
      " -6.20000000e-02 -6.10000000e-02 -6.00000000e-02 -5.90000000e-02\n",
      " -5.80000000e-02 -5.70000000e-02 -5.60000000e-02 -5.50000000e-02\n",
      " -5.40000000e-02 -5.30000000e-02 -5.20000000e-02 -5.10000000e-02\n",
      " -5.00000000e-02 -4.90000000e-02 -4.80000000e-02 -4.70000000e-02\n",
      " -4.60000000e-02 -4.50000000e-02 -4.40000000e-02 -4.30000000e-02\n",
      " -4.20000000e-02 -4.10000000e-02 -4.00000000e-02 -3.90000000e-02\n",
      " -3.80000000e-02 -3.70000000e-02 -3.60000000e-02 -3.50000000e-02\n",
      " -3.40000000e-02 -3.30000000e-02 -3.20000000e-02 -3.10000000e-02\n",
      " -3.00000000e-02 -2.90000000e-02 -2.80000000e-02 -2.70000000e-02\n",
      " -2.60000000e-02 -2.50000000e-02 -2.40000000e-02 -2.30000000e-02\n",
      " -2.20000000e-02 -2.10000000e-02 -2.00000000e-02 -1.90000000e-02\n",
      " -1.80000000e-02 -1.70000000e-02 -1.60000000e-02 -1.50000000e-02\n",
      " -1.40000000e-02 -1.30000000e-02 -1.20000000e-02 -1.10000000e-02\n",
      " -1.00000000e-02 -9.00000000e-03 -8.00000000e-03 -7.00000000e-03\n",
      " -6.00000000e-03 -5.00000000e-03 -4.00000000e-03 -3.00000000e-03\n",
      " -2.00000000e-03 -1.00000000e-03  1.38777878e-16  1.00000000e-03\n",
      "  2.00000000e-03  3.00000000e-03  4.00000000e-03  5.00000000e-03\n",
      "  6.00000000e-03  7.00000000e-03  8.00000000e-03  9.00000000e-03\n",
      "  1.00000000e-02  1.10000000e-02  1.20000000e-02  1.30000000e-02\n",
      "  1.40000000e-02  1.50000000e-02  1.60000000e-02  1.70000000e-02\n",
      "  1.80000000e-02  1.90000000e-02  2.00000000e-02  2.10000000e-02\n",
      "  2.20000000e-02  2.30000000e-02  2.40000000e-02  2.50000000e-02\n",
      "  2.60000000e-02  2.70000000e-02  2.80000000e-02  2.90000000e-02\n",
      "  3.00000000e-02  3.10000000e-02  3.20000000e-02  3.30000000e-02\n",
      "  3.40000000e-02  3.50000000e-02  3.60000000e-02  3.70000000e-02\n",
      "  3.80000000e-02  3.90000000e-02  4.00000000e-02  4.10000000e-02\n",
      "  4.20000000e-02  4.30000000e-02  4.40000000e-02  4.50000000e-02\n",
      "  4.60000000e-02  4.70000000e-02  4.80000000e-02  4.90000000e-02\n",
      "  5.00000000e-02  5.10000000e-02  5.20000000e-02  5.30000000e-02\n",
      "  5.40000000e-02  5.50000000e-02  5.60000000e-02  5.70000000e-02\n",
      "  5.80000000e-02  5.90000000e-02  6.00000000e-02  6.10000000e-02\n",
      "  6.20000000e-02  6.30000000e-02  6.40000000e-02  6.50000000e-02\n",
      "  6.60000000e-02  6.70000000e-02  6.80000000e-02  6.90000000e-02\n",
      "  7.00000000e-02  7.10000000e-02  7.20000000e-02  7.30000000e-02\n",
      "  7.40000000e-02  7.50000000e-02  7.60000000e-02  7.70000000e-02\n",
      "  7.80000000e-02  7.90000000e-02  8.00000000e-02  8.10000000e-02\n",
      "  8.20000000e-02  8.30000000e-02  8.40000000e-02  8.50000000e-02\n",
      "  8.60000000e-02  8.70000000e-02  8.80000000e-02  8.90000000e-02\n",
      "  9.00000000e-02  9.10000000e-02  9.20000000e-02  9.30000000e-02\n",
      "  9.40000000e-02  9.50000000e-02  9.60000000e-02  9.70000000e-02\n",
      "  9.80000000e-02  9.90000000e-02  1.00000000e-01  1.01000000e-01\n",
      "  1.02000000e-01  1.03000000e-01  1.04000000e-01  1.05000000e-01\n",
      "  1.06000000e-01  1.07000000e-01  1.08000000e-01  1.09000000e-01\n",
      "  1.10000000e-01  1.11000000e-01  1.12000000e-01  1.13000000e-01\n",
      "  1.14000000e-01  1.15000000e-01  1.16000000e-01  1.17000000e-01\n",
      "  1.18000000e-01  1.19000000e-01  1.20000000e-01  1.21000000e-01\n",
      "  1.22000000e-01  1.23000000e-01  1.24000000e-01  1.25000000e-01\n",
      "  1.26000000e-01  1.27000000e-01  1.28000000e-01  1.29000000e-01\n",
      "  1.30000000e-01  1.31000000e-01  1.32000000e-01  1.33000000e-01\n",
      "  1.34000000e-01  1.35000000e-01  1.36000000e-01  1.37000000e-01\n",
      "  1.38000000e-01  1.39000000e-01  1.40000000e-01  1.41000000e-01\n",
      "  1.42000000e-01  1.43000000e-01  1.44000000e-01  1.45000000e-01\n",
      "  1.46000000e-01  1.47000000e-01  1.48000000e-01  1.49000000e-01\n",
      "  1.50000000e-01]\n",
      "                                  sigma_orth_min : -0.15\n",
      "                                  sigma_orth_max : 0.15\n",
      "                                 sigma_orth_step : 0.001\n",
      "                                 sigma_orth_grid : [-1.50000000e-01 -1.49000000e-01 -1.48000000e-01 -1.47000000e-01\n",
      " -1.46000000e-01 -1.45000000e-01 -1.44000000e-01 -1.43000000e-01\n",
      " -1.42000000e-01 -1.41000000e-01 -1.40000000e-01 -1.39000000e-01\n",
      " -1.38000000e-01 -1.37000000e-01 -1.36000000e-01 -1.35000000e-01\n",
      " -1.34000000e-01 -1.33000000e-01 -1.32000000e-01 -1.31000000e-01\n",
      " -1.30000000e-01 -1.29000000e-01 -1.28000000e-01 -1.27000000e-01\n",
      " -1.26000000e-01 -1.25000000e-01 -1.24000000e-01 -1.23000000e-01\n",
      " -1.22000000e-01 -1.21000000e-01 -1.20000000e-01 -1.19000000e-01\n",
      " -1.18000000e-01 -1.17000000e-01 -1.16000000e-01 -1.15000000e-01\n",
      " -1.14000000e-01 -1.13000000e-01 -1.12000000e-01 -1.11000000e-01\n",
      " -1.10000000e-01 -1.09000000e-01 -1.08000000e-01 -1.07000000e-01\n",
      " -1.06000000e-01 -1.05000000e-01 -1.04000000e-01 -1.03000000e-01\n",
      " -1.02000000e-01 -1.01000000e-01 -1.00000000e-01 -9.90000000e-02\n",
      " -9.80000000e-02 -9.70000000e-02 -9.60000000e-02 -9.50000000e-02\n",
      " -9.40000000e-02 -9.30000000e-02 -9.20000000e-02 -9.10000000e-02\n",
      " -9.00000000e-02 -8.90000000e-02 -8.80000000e-02 -8.70000000e-02\n",
      " -8.60000000e-02 -8.50000000e-02 -8.40000000e-02 -8.30000000e-02\n",
      " -8.20000000e-02 -8.10000000e-02 -8.00000000e-02 -7.90000000e-02\n",
      " -7.80000000e-02 -7.70000000e-02 -7.60000000e-02 -7.50000000e-02\n",
      " -7.40000000e-02 -7.30000000e-02 -7.20000000e-02 -7.10000000e-02\n",
      " -7.00000000e-02 -6.90000000e-02 -6.80000000e-02 -6.70000000e-02\n",
      " -6.60000000e-02 -6.50000000e-02 -6.40000000e-02 -6.30000000e-02\n",
      " -6.20000000e-02 -6.10000000e-02 -6.00000000e-02 -5.90000000e-02\n",
      " -5.80000000e-02 -5.70000000e-02 -5.60000000e-02 -5.50000000e-02\n",
      " -5.40000000e-02 -5.30000000e-02 -5.20000000e-02 -5.10000000e-02\n",
      " -5.00000000e-02 -4.90000000e-02 -4.80000000e-02 -4.70000000e-02\n",
      " -4.60000000e-02 -4.50000000e-02 -4.40000000e-02 -4.30000000e-02\n",
      " -4.20000000e-02 -4.10000000e-02 -4.00000000e-02 -3.90000000e-02\n",
      " -3.80000000e-02 -3.70000000e-02 -3.60000000e-02 -3.50000000e-02\n",
      " -3.40000000e-02 -3.30000000e-02 -3.20000000e-02 -3.10000000e-02\n",
      " -3.00000000e-02 -2.90000000e-02 -2.80000000e-02 -2.70000000e-02\n",
      " -2.60000000e-02 -2.50000000e-02 -2.40000000e-02 -2.30000000e-02\n",
      " -2.20000000e-02 -2.10000000e-02 -2.00000000e-02 -1.90000000e-02\n",
      " -1.80000000e-02 -1.70000000e-02 -1.60000000e-02 -1.50000000e-02\n",
      " -1.40000000e-02 -1.30000000e-02 -1.20000000e-02 -1.10000000e-02\n",
      " -1.00000000e-02 -9.00000000e-03 -8.00000000e-03 -7.00000000e-03\n",
      " -6.00000000e-03 -5.00000000e-03 -4.00000000e-03 -3.00000000e-03\n",
      " -2.00000000e-03 -1.00000000e-03  1.38777878e-16  1.00000000e-03\n",
      "  2.00000000e-03  3.00000000e-03  4.00000000e-03  5.00000000e-03\n",
      "  6.00000000e-03  7.00000000e-03  8.00000000e-03  9.00000000e-03\n",
      "  1.00000000e-02  1.10000000e-02  1.20000000e-02  1.30000000e-02\n",
      "  1.40000000e-02  1.50000000e-02  1.60000000e-02  1.70000000e-02\n",
      "  1.80000000e-02  1.90000000e-02  2.00000000e-02  2.10000000e-02\n",
      "  2.20000000e-02  2.30000000e-02  2.40000000e-02  2.50000000e-02\n",
      "  2.60000000e-02  2.70000000e-02  2.80000000e-02  2.90000000e-02\n",
      "  3.00000000e-02  3.10000000e-02  3.20000000e-02  3.30000000e-02\n",
      "  3.40000000e-02  3.50000000e-02  3.60000000e-02  3.70000000e-02\n",
      "  3.80000000e-02  3.90000000e-02  4.00000000e-02  4.10000000e-02\n",
      "  4.20000000e-02  4.30000000e-02  4.40000000e-02  4.50000000e-02\n",
      "  4.60000000e-02  4.70000000e-02  4.80000000e-02  4.90000000e-02\n",
      "  5.00000000e-02  5.10000000e-02  5.20000000e-02  5.30000000e-02\n",
      "  5.40000000e-02  5.50000000e-02  5.60000000e-02  5.70000000e-02\n",
      "  5.80000000e-02  5.90000000e-02  6.00000000e-02  6.10000000e-02\n",
      "  6.20000000e-02  6.30000000e-02  6.40000000e-02  6.50000000e-02\n",
      "  6.60000000e-02  6.70000000e-02  6.80000000e-02  6.90000000e-02\n",
      "  7.00000000e-02  7.10000000e-02  7.20000000e-02  7.30000000e-02\n",
      "  7.40000000e-02  7.50000000e-02  7.60000000e-02  7.70000000e-02\n",
      "  7.80000000e-02  7.90000000e-02  8.00000000e-02  8.10000000e-02\n",
      "  8.20000000e-02  8.30000000e-02  8.40000000e-02  8.50000000e-02\n",
      "  8.60000000e-02  8.70000000e-02  8.80000000e-02  8.90000000e-02\n",
      "  9.00000000e-02  9.10000000e-02  9.20000000e-02  9.30000000e-02\n",
      "  9.40000000e-02  9.50000000e-02  9.60000000e-02  9.70000000e-02\n",
      "  9.80000000e-02  9.90000000e-02  1.00000000e-01  1.01000000e-01\n",
      "  1.02000000e-01  1.03000000e-01  1.04000000e-01  1.05000000e-01\n",
      "  1.06000000e-01  1.07000000e-01  1.08000000e-01  1.09000000e-01\n",
      "  1.10000000e-01  1.11000000e-01  1.12000000e-01  1.13000000e-01\n",
      "  1.14000000e-01  1.15000000e-01  1.16000000e-01  1.17000000e-01\n",
      "  1.18000000e-01  1.19000000e-01  1.20000000e-01  1.21000000e-01\n",
      "  1.22000000e-01  1.23000000e-01  1.24000000e-01  1.25000000e-01\n",
      "  1.26000000e-01  1.27000000e-01  1.28000000e-01  1.29000000e-01\n",
      "  1.30000000e-01  1.31000000e-01  1.32000000e-01  1.33000000e-01\n",
      "  1.34000000e-01  1.35000000e-01  1.36000000e-01  1.37000000e-01\n",
      "  1.38000000e-01  1.39000000e-01  1.40000000e-01  1.41000000e-01\n",
      "  1.42000000e-01  1.43000000e-01  1.44000000e-01  1.45000000e-01\n",
      "  1.46000000e-01  1.47000000e-01  1.48000000e-01  1.49000000e-01\n",
      "  1.50000000e-01]\n",
      "                               mf_use_sigma_orth : True\n",
      "                                        mf_alpha : 7579075.0\n",
      "                                    mf_r_av_corr : 1.0\n",
      "                                       mf_f_corr : 2.4\n",
      "                                         hb_term : default\n",
      "                                            hb_c : 27488747.0\n",
      "                                          hb_c_T : 1.5\n",
      "                                 hb_sigma_thresh : 0.007686\n",
      "                             hb_don_elmnt_nr_arr : [  1 100 101 102 103 104 105 106 107 108 109 110 111 112 113 114 115 116\n",
      " 117 118 119 120 121 122 123 124 125 126 127 128 129 130 131 132 133 134\n",
      " 135 136 137 138 139 140 141 142 143 144 145 146 147 148 149 150]\n",
      "                             hb_acc_elmnt_nr_arr : [ 6  7  8  9 15 16 17 35 53]\n",
      "                                     hb_pref_arr : [1. 1. 1. 1. 1. 1. 1. 1. 1. 1. 1. 1. 1. 1. 1. 1. 1. 1. 1. 1. 1. 1. 1. 1.\n",
      " 1. 1. 1. 1. 1. 1. 1. 1. 1. 1. 1. 1. 1. 1. 1. 1. 1. 1. 1. 1. 1. 1. 1. 1.\n",
      " 1. 1. 1. 1. 1. 1. 1. 1. 1. 1. 1. 1. 1. 1. 1. 1. 1. 1. 1. 1. 1. 1. 1. 1.\n",
      " 1. 1. 1. 1. 1. 1. 1. 1. 1. 1. 1. 1. 1. 1. 1. 1. 1. 1. 1. 1. 1. 1. 1. 1.\n",
      " 1. 1. 1. 1. 1. 1. 1. 1. 1. 1. 1. 1. 1. 1. 1. 1. 1. 1. 1. 1. 1. 1. 1. 1.\n",
      " 1. 1. 1. 1. 1. 1. 1. 1. 1. 1. 1. 1. 1. 1. 1. 1. 1. 1. 1. 1. 1. 1. 1. 1.\n",
      " 1. 1. 1. 1. 1. 1. 1. 1. 1. 1. 1. 1. 1. 1. 1. 1. 1. 1. 1. 1. 1. 1. 1. 1.\n",
      " 1. 1. 1. 1. 1. 1. 1. 1. 1. 1. 1. 1. 1. 1. 1. 1. 1. 1. 1. 1. 1. 1. 1. 1.\n",
      " 1. 1. 1. 1. 1. 1. 1. 1. 1.]\n",
      "                                       comb_term : staverman_guggenheim\n",
      "                                 comb_sg_z_coord : 10.0\n",
      "                                   comb_sg_a_std : 47.999\n",
      "calculate_contact_statistics_molecule_properties : True\n",
      "                             cosmospace_max_iter : 1000\n",
      "                          cosmospace_conv_thresh : 1e-06\n",
      "                                            name : default_orca\n"
     ]
    }
   ],
   "source": [
    "print(crs.par)"
   ]
  },
  {
   "cell_type": "markdown",
   "id": "8ed443fd-972a-4dec-a02e-53ba9d8b17df",
   "metadata": {},
   "source": [
    "Add a molecule:"
   ]
  },
  {
   "cell_type": "code",
   "execution_count": 6,
   "id": "f922e271-1fc5-4ba5-8ca8-2b9c87068d55",
   "metadata": {},
   "outputs": [],
   "source": [
    "mol_structure_list_0 = ['./../tests/COSMO_ORCA/C2H2Cl4_001_1112tetrachloroethane/COSMO_TZVPD/C2H2Cl4_001_1112tetrachloroethane_CnfS1_c000.orcacosmo']\n",
    "crs.add_molecule(mol_structure_list_0)"
   ]
  },
  {
   "cell_type": "markdown",
   "id": "559c5ebb-66f9-46fb-9c75-16d60faea5cf",
   "metadata": {},
   "source": [
    "You can clear the list of molecules at any stage:"
   ]
  },
  {
   "cell_type": "code",
   "execution_count": 7,
   "id": "cde40168-1c38-48e6-8aa1-9cedc371885c",
   "metadata": {},
   "outputs": [],
   "source": [
    "crs.clear_molecules()"
   ]
  },
  {
   "cell_type": "markdown",
   "id": "3cc5a342-8343-4bf1-9c17-d37590e48ce7",
   "metadata": {},
   "source": [
    "But now we do want to add two molecules. At present, only one molecular structure per molecule is supported."
   ]
  },
  {
   "cell_type": "code",
   "execution_count": 8,
   "id": "e2905167-23ff-441e-aab4-d707117c15f0",
   "metadata": {},
   "outputs": [],
   "source": [
    "mol_structure_list_0 = ['./../tests/COSMO_ORCA/C2H2Cl4_001_1112tetrachloroethane/COSMO_TZVPD/C2H2Cl4_001_1112tetrachloroethane_CnfS1_c000.orcacosmo']\n",
    "crs.add_molecule(mol_structure_list_0)\n",
    "crs.add_molecule(['./../tests/COSMO_ORCA/H2O/COSMO_TZVPD/H2O_c000.orcacosmo'])"
   ]
  },
  {
   "cell_type": "markdown",
   "id": "ae654d3e-af1c-4b62-9d93-135f7f89cea8",
   "metadata": {},
   "source": [
    "Let us add two jobs:"
   ]
  },
  {
   "cell_type": "code",
   "execution_count": 9,
   "id": "fb5f7d85-3817-48ed-8be0-e2ba713b0913",
   "metadata": {},
   "outputs": [],
   "source": [
    "x = np.array([0.0, 1.0])\n",
    "T = 298.15\n",
    "crs.add_job(x, T, refst='pure_component')"
   ]
  },
  {
   "cell_type": "code",
   "execution_count": 10,
   "id": "81524601-2869-45fd-89d4-f8f6fa1cb5bb",
   "metadata": {},
   "outputs": [],
   "source": [
    "x = np.array([0.5, .5])\n",
    "T = 298.15\n",
    "crs.add_job(x, T, refst='pure_component')"
   ]
  },
  {
   "cell_type": "code",
   "execution_count": 11,
   "id": "b4af8ebc-3333-4d10-a10e-742475fd4568",
   "metadata": {},
   "outputs": [],
   "source": [
    "results = crs.calculate()"
   ]
  },
  {
   "cell_type": "code",
   "execution_count": 12,
   "id": "f001bcfe-8d0e-4057-b479-7874de112b33",
   "metadata": {},
   "outputs": [
    {
     "name": "stdout",
     "output_type": "stream",
     "text": [
      "Total logarithmic activity coefficient:  [[8.68627398 0.        ]\n",
      " [1.04077495 1.53128118]]\n",
      "Residual logarithmic activity coefficient:  [[9.73709277 0.        ]\n",
      " [1.15474901 1.76906839]]\n",
      "Combinatorial logarithmic activity coefficient: [[-1.05081879  0.        ]\n",
      " [-0.11397406 -0.23778722]]\n"
     ]
    }
   ],
   "source": [
    "print('Total logarithmic activity coefficient: ', results['tot']['lng'])\n",
    "print('Residual logarithmic activity coefficient: ', results['enth']['lng'])\n",
    "print('Combinatorial logarithmic activity coefficient:', results['comb']['lng'])"
   ]
  },
  {
   "cell_type": "markdown",
   "id": "1e84f3c4-5f2e-48b4-8337-291a0e824239",
   "metadata": {},
   "source": [
    "To view partial molar properties and average interaction energies:"
   ]
  },
  {
   "cell_type": "code",
   "execution_count": 13,
   "id": "0fbe5778-4cdd-4d28-a3fc-1c32d174521c",
   "metadata": {},
   "outputs": [
    {
     "name": "stdout",
     "output_type": "stream",
     "text": [
      "Partial molar           - pm_A_int: \n",
      " [[5667.60682391    0.        ]\n",
      " [1182.4581352  1080.3155726 ]] \n",
      "\n",
      "Partial molar           - pm_E_int: \n",
      " [[9311.12171104    0.        ]\n",
      " [2142.0133706  1679.75869705]] \n",
      "\n",
      "Partial molar           - pm_E_hb: \n",
      " [[6072.5248119     0.        ]\n",
      " [1599.25872566  999.07187408]] \n",
      "\n",
      "Partial molar           - pm_E_mf: \n",
      " [[3238.59689915    0.        ]\n",
      " [ 542.75464493  680.68682297]] \n",
      "\n",
      "Average interaction mol - aim_A_int: \n",
      " [[3694.6397339     0.        ]\n",
      " [ 131.66530029 2131.10833209]] \n",
      "\n"
     ]
    }
   ],
   "source": [
    "print('Partial molar           - pm_A_int: \\n', results['enth']['pm_A_int'], '\\n')\n",
    "print('Partial molar           - pm_E_int: \\n', results['enth']['pm_E_int'], '\\n')\n",
    "print('Partial molar           - pm_E_hb: \\n', results['enth']['pm_E_hb'], '\\n')\n",
    "print('Partial molar           - pm_E_mf: \\n', results['enth']['pm_E_mf'], '\\n')\n",
    "print('Average interaction mol - aim_A_int: \\n', results['enth']['aim_A_int'], '\\n')"
   ]
  },
  {
   "cell_type": "markdown",
   "id": "8066b3d7-972e-4d52-82ab-4b7ea3336285",
   "metadata": {},
   "source": [
    "You may also use different reference states for the molecules. To use a fixed concentration referene mixture:"
   ]
  },
  {
   "cell_type": "code",
   "execution_count": 14,
   "id": "3213da72-2e79-48ee-a507-791b0af9cc8b",
   "metadata": {},
   "outputs": [
    {
     "name": "stdout",
     "output_type": "stream",
     "text": [
      "Total logarithmic activity coefficient: \n",
      " [[ 0.          0.        ]\n",
      " [-7.64549903  1.53128118]] \n",
      "\n"
     ]
    }
   ],
   "source": [
    "crs.clear_jobs()\n",
    "\n",
    "x = np.array([0.0, 1.0])\n",
    "T = 298.15\n",
    "crs.add_job(x, T, refst='reference_mixture', x_refst=np.array([0, 1.]))\n",
    "\n",
    "x = np.array([0.5, 0.5])\n",
    "T = 298.15\n",
    "crs.add_job(x, T, refst='reference_mixture', x_refst=np.array([0, 1.]))\n",
    "\n",
    "results = crs.calculate()\n",
    "\n",
    "print('Total logarithmic activity coefficient: \\n', results['tot']['lng'], '\\n')"
   ]
  },
  {
   "cell_type": "markdown",
   "id": "fe340db9-2b05-4de8-8919-a273abbe41b6",
   "metadata": {},
   "source": [
    "To use the COSMO reference state directly:"
   ]
  },
  {
   "cell_type": "code",
   "execution_count": 15,
   "id": "a35cd96e-6130-49e9-8e24-fe7f526dc68d",
   "metadata": {},
   "outputs": [],
   "source": [
    "crs.clear_jobs()\n",
    "x = np.array([0.5, 0.5])\n",
    "T = 298.15\n",
    "crs.add_job(x, T, refst='cosmo', x_refst=np.array([0, 1.]))\n",
    "results = crs.calculate()\n",
    "\n",
    "crs.clear_jobs()\n",
    "x = np.array([0.0, 1.0])\n",
    "T = 298.15\n",
    "crs.add_job(x, T, refst='cosmo', x_refst=np.array([0, 1.]))\n",
    "results_ref = crs.calculate()"
   ]
  },
  {
   "cell_type": "code",
   "execution_count": 16,
   "id": "2bf9ba7c-e112-4988-a20d-902dd541fc48",
   "metadata": {},
   "outputs": [
    {
     "name": "stdout",
     "output_type": "stream",
     "text": [
      "Total logarithmic activity coefficient: \n",
      " [[-7.64549903  1.53128118]] \n",
      "\n"
     ]
    }
   ],
   "source": [
    "print('Total logarithmic activity coefficient: \\n', results['tot']['lng']-results_ref['tot']['lng'], '\\n')"
   ]
  },
  {
   "cell_type": "markdown",
   "id": "05bec7b0",
   "metadata": {},
   "source": [
    "Now to use the newest [openCOSMO-RS 24a](https://doi.org/10.1016/j.fluid.2024.114250) parameter set:\n",
    "\n",
    "(keep in mind that results may vary slightly because the implementations are a little different)"
   ]
  },
  {
   "cell_type": "code",
   "execution_count": 37,
   "id": "f0bfab66",
   "metadata": {},
   "outputs": [
    {
     "name": "stdout",
     "output_type": "stream",
     "text": [
      "Total logarithmic activity coefficient:  [[3.18179476 0.        ]\n",
      " [3.02591755 0.        ]\n",
      " [0.88209786 0.73057466]] \n",
      "\n",
      "Residual logarithmic activity coefficient:  [[3.16087856 0.        ]\n",
      " [3.00500135 0.        ]\n",
      " [0.88285676 0.72645049]]\n",
      "Combinatorial logarithmic activity coefficient: [[ 0.0209162   0.        ]\n",
      " [ 0.0209162   0.        ]\n",
      " [-0.0007589   0.00412417]]\n"
     ]
    },
    {
     "data": {
      "image/png": "[encoded data removed]",
      "text/plain": [
       "<Figure size 640x480 with 1 Axes>"
      ]
     },
     "metadata": {},
     "output_type": "display_data"
    },
    {
     "data": {
      "image/png": "[encoded data removed]",
      "text/plain": [
       "<Figure size 640x480 with 1 Axes>"
      ]
     },
     "metadata": {},
     "output_type": "display_data"
    }
   ],
   "source": [
    "%matplotlib inline\n",
    "import numpy as np\n",
    "import pandas as pd\n",
    "from matplotlib import pyplot as plt\n",
    "from opencosmorspy.parameterization import openCOSMORS24a\n",
    "from opencosmorspy.cosmors import COSMORS\n",
    "from opencosmorspy.input_parsers import SigmaProfileParser\n",
    "crs = COSMORS(par=openCOSMORS24a())\n",
    "\n",
    "crs.add_molecule(['./../tests/COSMO_ORCA/cyclohexane.orcacosmo'])\n",
    "crs.add_molecule(['./../tests/COSMO_ORCA/acetic_acid.orcacosmo'])\n",
    "\n",
    "# infinite dilution activity coefficient of cyclohexane in acetic acid at 25 C\n",
    "x = np.array([0.0, 1.0])\n",
    "T = 298\n",
    "crs.add_job(x, T, refst='pure_component')\n",
    "\n",
    "# infinite dilution activity coefficient of cyclohexane in acetic acid at 45 C\n",
    "x = np.array([0.0, 1.0])\n",
    "T = 318\n",
    "crs.add_job(x, T, refst='pure_component')\n",
    "\n",
    "# 50:50 mole fraction based mixture of cyclohexane and acetic acid\n",
    "x = np.array([0.5, .5])\n",
    "T = 298.15\n",
    "crs.add_job(x, T, refst='pure_component')\n",
    "\n",
    "results = crs.calculate()\n",
    "\n",
    "print('Total logarithmic activity coefficient: ', results['tot']['lng'], '\\n')\n",
    "\n",
    "print('Residual logarithmic activity coefficient: ', results['enth']['lng'])\n",
    "print('Combinatorial logarithmic activity coefficient:', results['comb']['lng'])\n",
    "\n",
    "sigma_profile_data = {}\n",
    "\n",
    "for molecule in crs.enth.mol_lst:\n",
    "    molecule_filepath = molecule.cosmo_struct_lst[0].filepath\n",
    "    molecule_name = molecule.cosmo_struct_lst[0].filename.replace('.orcacosmo', '')\n",
    "    spp = SigmaProfileParser(molecule_filepath)\n",
    "    sigmas, areas = spp.cluster_and_create_sigma_profile()\n",
    "    sigma_profile_data[molecule_name] = {'Sigma': sigmas, 'Area': areas}\n",
    "\n",
    "    plt.title(molecule_name)\n",
    "    plt.plot(sigmas, areas)\n",
    "    plt.xlim([-0.03, 0.03])\n",
    "    plt.show()\n",
    "\n",
    "# output to excel\n",
    "results_data = {}\n",
    "results_data[f'Temperature (K)'] = []\n",
    "\n",
    "n_molecules = len(crs.enth.mol_lst)\n",
    "for i_molecule in range(n_molecules):    \n",
    "    results_data[f'Concentration_{i_molecule+1}'] = []\n",
    "    results_data[f'ln_Gamma_total_{i_molecule+1}'] = []\n",
    "\n",
    "for i_job in range(len(results['x'])):\n",
    "    results_data['Temperature (K)'].append(results['T'][i_job])\n",
    "    for i_molecule in range(n_molecules):\n",
    "        results_data[f'Concentration_{i_molecule+1}'].append(results['x'][i_job][i_molecule])\n",
    "    for i_molecule in range(n_molecules):\n",
    "        results_data[f'ln_Gamma_total_{i_molecule+1}'].append(results['tot']['lng'][i_job][i_molecule])\n",
    "\n",
    "with pd.ExcelWriter('cosmors_results.xlsx', engine='openpyxl') as writer:\n",
    "    # First sheet: Sigma profiles\n",
    "    sigma_profiles_df = pd.DataFrame()\n",
    "    for name, data in sigma_profile_data.items():\n",
    "        df = pd.DataFrame({f'{name}_Sigma': data['Sigma'], f'{name}_Area': data['Area']})\n",
    "        sigma_profiles_df = pd.concat([sigma_profiles_df, df], axis=1)\n",
    "    sigma_profiles_df.to_excel(writer, sheet_name='Sigma Profiles', index=False)\n",
    "\n",
    "    # Second sheet: Calculation results\n",
    "    results_df = pd.DataFrame(results_data)\n",
    "    results_df.to_excel(writer, sheet_name='Results', index=False)"
   ]
  },
  {
   "cell_type": "markdown",
   "id": "3c2fd9a7",
   "metadata": {},
   "source": [
    "Exymple calculating the solubility of acetaminophen/paracetamol in several solvents"
   ]
  },
  {
   "cell_type": "code",
   "execution_count": 18,
   "id": "9a014397",
   "metadata": {},
   "outputs": [
    {
     "name": "stdout",
     "output_type": "stream",
     "text": [
      "Solubility of acetaminophen/paracetamol in\n",
      "water           non-iter calc: 0.00084 iter calc: 0.00022 exp: 0.00207\n",
      "ethanol         non-iter calc: 0.11384 iter calc: 0.07131 exp: 0.06624\n",
      "acetic_acid     non-iter calc: 0.05655 iter calc: 0.04550 exp: 0.03182\n",
      "cyclohexane     non-iter calc: 0.00000 iter calc: 0.00000 exp: N/A\n"
     ]
    }
   ],
   "source": [
    "import os\n",
    "from scipy.optimize import fsolve\n",
    "\n",
    "# Add molecules\n",
    "solute_file = './../tests/COSMO_ORCA/acetaminophen.orcacosmo' # Replace with actual solute file\n",
    "\n",
    "\n",
    "# Constants\n",
    "R = 8.314  # Gas constant, J/(mol·K)\n",
    "delta_h_fusion = 27.1 * 1000  # Fusion enthalpy of the solute (J/mol)\n",
    "t_fusion = 443.6 # Fusion temperature of the solute (K)\n",
    "temperature = 298.15  # Temperature for the solubility calculation (K)\n",
    "\n",
    "def calc_solubility(crs, delta_h_fusion, t_fusion, temperature, iterative=False):\n",
    "    rhs = -delta_h_fusion / R * (1 / temperature - 1 / t_fusion)\n",
    "\n",
    "    def calculate_gamma(x):\n",
    "        crs.clear_jobs()\n",
    "        crs.add_job(x, temperature, refst='pure_component')\n",
    "        results = crs.calculate()\n",
    "        return results['tot']['lng'][0][0]\n",
    "\n",
    "    if not iterative:\n",
    "        ln_gamma_inf = calculate_gamma(np.array([0.0, 1.0])) \n",
    "        return np.exp(rhs) / np.exp(ln_gamma_inf)\n",
    "    \n",
    "    def equilibrium_condition(x_guess):\n",
    "        x_guess = max(1e-15, x_guess)\n",
    "        x_guess = min(1, x_guess)\n",
    "        x = np.array([x_guess, 1 - x_guess])\n",
    "        ln_gamma = calculate_gamma(x)\n",
    "        diff = np.abs(ln_gamma + np.log(x_guess) - rhs)\n",
    "        return diff\n",
    "\n",
    "    result = fsolve(equilibrium_condition, 1e-5)\n",
    "    \n",
    "    x = max(1e-15, result[0])\n",
    "    x = min(1, x)\n",
    "    return x\n",
    "\n",
    "# exp data from: https://doi.org/10.1021/je990124v\n",
    "exp_data = {\n",
    "    'water': 0.002068248,\n",
    "    'ethanol': 0.066236658,\n",
    "    'acetic_acid': 0.031816953,\n",
    "    'cyclohexane': 'N/A'\n",
    "}\n",
    "try:\n",
    "    print(f'Solubility of acetaminophen/paracetamol in')\n",
    "    for solvent_file in ['./../tests/COSMO_ORCA/water.orcacosmo',\n",
    "                         './../tests/COSMO_ORCA/ethanol.orcacosmo',\n",
    "                         './../tests/COSMO_ORCA/acetic_acid.orcacosmo',\n",
    "                         './../tests/COSMO_ORCA/cyclohexane.orcacosmo']:\n",
    "        \n",
    "        solvent_name = os.path.basename(solvent_file).replace('.orcacosmo', '')\n",
    "        crs.clear_molecules()\n",
    "        crs.add_molecule([solute_file])\n",
    "        crs.add_molecule([solvent_file])\n",
    "        x_solubility_non_iterative = calc_solubility(crs, delta_h_fusion, t_fusion, temperature, iterative=False)\n",
    "\n",
    "        x_solubility_iterative = calc_solubility(crs, delta_h_fusion, t_fusion, temperature, iterative=True)\n",
    "        exp_val = f'{exp_data[solvent_name]:.5f}' if exp_data[solvent_name] != 'N/A' else exp_data[solvent_name]\n",
    "        print(solvent_name.ljust(15), f\"non-iter calc: {x_solubility_non_iterative:.5f}\", f\"iter calc: {x_solubility_iterative:.5f}\", f\"exp: {exp_val}\")\n",
    "\n",
    "except Exception as e:\n",
    "    print(f\"Error in solubility calculation: {e}\")\n",
    "    print(\"Potential reasons for failure:\")\n",
    "    print(\"1. Activity coefficients calculated by COSMO-RS could be unrealistic at extreme compositions.\")\n",
    "    print(\"2. The thermodynamic parameters (e.g., delta_h_fusion or t_fusion) might be inaccurate.\")\n",
    "    print(\"3. Issues with the openCOSMO-RS input files or parameterization might affect calculations.\")"
   ]
  }
 ],
 "metadata": {
  "kernelspec": {
   "display_name": "base311",
   "language": "python",
   "name": "python3"
  },
  "language_info": {
   "codemirror_mode": {
    "name": "ipython",
    "version": 3
   },
   "file_extension": ".py",
   "mimetype": "text/x-python",
   "name": "python",
   "nbconvert_exporter": "python",
   "pygments_lexer": "ipython3",
   "version": "3.11.10"
  }
 },
 "nbformat": 4,
 "nbformat_minor": 5
}
